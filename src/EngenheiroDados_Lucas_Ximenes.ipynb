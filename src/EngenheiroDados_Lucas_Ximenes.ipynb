{
  "nbformat": 4,
  "nbformat_minor": 0,
  "metadata": {
    "colab": {
      "name": "EngenheiroDados - Lucas Ximenes",
      "provenance": []
    },
    "kernelspec": {
      "name": "python3",
      "display_name": "Python 3"
    }
  },
  "cells": [
    {
      "cell_type": "markdown",
      "metadata": {
        "id": "X7RW7KYK7e24"
      },
      "source": [
        "## DESAFIO\r\n",
        "\r\n",
        "1. Conversão do formato dos arquivos: Converta o arquivo CSV dados.csv, para um formato colunar de alta performance de leitura de sua escolha e justificar.\r\n",
        "\r\n",
        "2. Realize a deduplicação dos dados após a conversão;\r\n",
        "\r\n",
        "3. Remova os registros onde a coluna Instituição Financeira estiver vazia ou nula;\r\n",
        "\r\n",
        "3. Defina o tipo correto para pelo menos 4 colunas.\r\n",
        "\r\n",
        "\r\n",
        "#### Notas gerais\r\n",
        "- Todas as operações devem ser realizadas utilizando Spark. \r\n",
        " O serviço de execução fica a seu critério, podendo utilizar tanto serviços locais como serviços em cloud, desde que seja possível acessarmos para validação. "
      ]
    },
    {
      "cell_type": "code",
      "metadata": {
        "id": "J2ySx784rz96"
      },
      "source": [
        "#instalando spark no google colab\r\n",
        "!apt-get install openjdk-8-jdk-headless -qq > /dev/null\r\n",
        "!wget -q https://www-us.apache.org/dist/spark/spark-3.0.1/spark-3.0.1-bin-hadoop2.7.tgz\r\n",
        "!tar xf spark-3.0.1-bin-hadoop2.7.tgz\r\n",
        "!pip install -q findspark"
      ],
      "execution_count": null,
      "outputs": []
    },
    {
      "cell_type": "code",
      "metadata": {
        "id": "k1Hxf0uQsdbt"
      },
      "source": [
        "#setando variaveis de ambiente no colab\r\n",
        "import os\r\n",
        "os.environ[\"JAVA_HOME\"] = \"/usr/lib/jvm/java-8-openjdk-amd64\"\r\n",
        "os.environ[\"SPARK_HOME\"] = \"/content/spark-3.0.1-bin-hadoop2.7\""
      ],
      "execution_count": null,
      "outputs": []
    },
    {
      "cell_type": "code",
      "metadata": {
        "id": "XpYFWX9_tkuG"
      },
      "source": [
        "import findspark\r\n",
        "findspark.init()\r\n",
        "\r\n",
        "from pyspark.sql import functions as F\r\n",
        "from pyspark.sql.types import *\r\n",
        "\r\n",
        "from pyspark.sql import SparkSession"
      ],
      "execution_count": null,
      "outputs": []
    },
    {
      "cell_type": "code",
      "metadata": {
        "colab": {
          "base_uri": "https://localhost:8080/",
          "height": 219
        },
        "id": "DO0ksWRbtmp2",
        "outputId": "d90d0f3b-4bb0-4603-f436-71beb8018b40"
      },
      "source": [
        "spark = SparkSession.builder.getOrCreate()\r\n",
        "spark"
      ],
      "execution_count": null,
      "outputs": [
        {
          "output_type": "execute_result",
          "data": {
            "text/html": [
              "\n",
              "            <div>\n",
              "                <p><b>SparkSession - in-memory</b></p>\n",
              "                \n",
              "        <div>\n",
              "            <p><b>SparkContext</b></p>\n",
              "\n",
              "            <p><a href=\"http://e2075c64931c:4040\">Spark UI</a></p>\n",
              "\n",
              "            <dl>\n",
              "              <dt>Version</dt>\n",
              "                <dd><code>v3.0.1</code></dd>\n",
              "              <dt>Master</dt>\n",
              "                <dd><code>local[*]</code></dd>\n",
              "              <dt>AppName</dt>\n",
              "                <dd><code>pyspark-shell</code></dd>\n",
              "            </dl>\n",
              "        </div>\n",
              "        \n",
              "            </div>\n",
              "        "
            ],
            "text/plain": [
              "<pyspark.sql.session.SparkSession at 0x7fe9707de6d8>"
            ]
          },
          "metadata": {
            "tags": []
          },
          "execution_count": 4
        }
      ]
    },
    {
      "cell_type": "code",
      "metadata": {
        "colab": {
          "resources": {
            "http://localhost:8080/nbextensions/google.colab/files.js": {
              "data": "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",
              "ok": true,
              "headers": [
                [
                  "content-type",
                  "application/javascript"
                ]
              ],
              "status": 200,
              "status_text": ""
            }
          },
          "base_uri": "https://localhost:8080/",
          "height": 73
        },
        "id": "pyrctUIbt4XA",
        "outputId": "a4322812-b1c9-4f64-a09d-075810100447"
      },
      "source": [
        "#INSERIR ARQUIVO CSV REFERENTE AO DESAFIO\r\n",
        "from google.colab import files \r\n",
        "  \r\n",
        "  \r\n",
        "uploaded = files.upload()"
      ],
      "execution_count": null,
      "outputs": [
        {
          "output_type": "display_data",
          "data": {
            "text/html": [
              "\n",
              "     <input type=\"file\" id=\"files-36c7f831-59b2-42f9-8bed-1daa17e0f3e1\" name=\"files[]\" multiple disabled\n",
              "        style=\"border:none\" />\n",
              "     <output id=\"result-36c7f831-59b2-42f9-8bed-1daa17e0f3e1\">\n",
              "      Upload widget is only available when the cell has been executed in the\n",
              "      current browser session. Please rerun this cell to enable.\n",
              "      </output>\n",
              "      <script src=\"/nbextensions/google.colab/files.js\"></script> "
            ],
            "text/plain": [
              "<IPython.core.display.HTML object>"
            ]
          },
          "metadata": {
            "tags": []
          }
        },
        {
          "output_type": "stream",
          "text": [
            "Saving Bacen - IfData - Ativos.csv to Bacen - IfData - Ativos.csv\n"
          ],
          "name": "stdout"
        }
      ]
    },
    {
      "cell_type": "code",
      "metadata": {
        "id": "USNZNddF2Gpi"
      },
      "source": [
        "arquivo = list(uploaded.items())\r\n",
        "arquivo = arquivo[0][0]"
      ],
      "execution_count": null,
      "outputs": []
    },
    {
      "cell_type": "code",
      "metadata": {
        "id": "sauVxIQ8y5LR"
      },
      "source": [
        "resultado = spark.read.csv(arquivo, sep=';', header=True)"
      ],
      "execution_count": null,
      "outputs": []
    },
    {
      "cell_type": "code",
      "metadata": {
        "colab": {
          "base_uri": "https://localhost:8080/"
        },
        "id": "mcen4ZE303yu",
        "outputId": "fc106f87-af08-404d-a8c9-e7efb392780a"
      },
      "source": [
        "resultado.printSchema()"
      ],
      "execution_count": null,
      "outputs": [
        {
          "output_type": "stream",
          "text": [
            "root\n",
            " |-- Instituição financeira: string (nullable = true)\n",
            " |-- Código: string (nullable = true)\n",
            " |-- Conglomerado: string (nullable = true)\n",
            " |-- Conglomerado Financeiro: string (nullable = true)\n",
            " |-- Conglomerado Prudencial: string (nullable = true)\n",
            " |-- TCB: string (nullable = true)\n",
            " |-- TC: string (nullable = true)\n",
            " |-- TI: string (nullable = true)\n",
            " |-- Cidade: string (nullable = true)\n",
            " |-- UF: string (nullable = true)\n",
            " |-- Data: string (nullable = true)\n",
            " |-- Disponibilidades (a): string (nullable = true)\n",
            " |-- Aplicações Interfinanceiras de Liquidez (b): string (nullable = true)\n",
            " |-- TVM e Instrumentos Financeiros Derivativos (c): string (nullable = true)\n",
            " |-- Operações de Crédito: string (nullable = true)\n",
            " |-- _c15: string (nullable = true)\n",
            " |-- _c16: string (nullable = true)\n",
            " |-- Arrendamento Mercantil: string (nullable = true)\n",
            " |-- _c18: string (nullable = true)\n",
            " |-- _c19: string (nullable = true)\n",
            " |-- _c20: string (nullable = true)\n",
            " |-- _c21: string (nullable = true)\n",
            " |-- Outros Créditos - Líquido de Provisão (f): string (nullable = true)\n",
            " |-- Outros Ativos Realizáveis (g): string (nullable = true)\n",
            " |-- Permanente Ajustado (h): string (nullable = true)\n",
            " |-- Ativo Total Ajustado (i) = (a) + (b) + (c) + (d) + (e) + (f) + (g) + (h): string (nullable = true)\n",
            " |-- Credores por Antecipação de Valor Residual (j): string (nullable = true)\n",
            " |-- Ativo Total (k) = (i) - (j): string (nullable = true)\n",
            " |-- _c28: string (nullable = true)\n",
            "\n"
          ],
          "name": "stdout"
        }
      ]
    },
    {
      "cell_type": "code",
      "metadata": {
        "colab": {
          "base_uri": "https://localhost:8080/"
        },
        "id": "VwEqVBQK09_u",
        "outputId": "f18fe98a-5591-4e9d-cb76-9e63b29fa54d"
      },
      "source": [
        "resultado.show(5)"
      ],
      "execution_count": null,
      "outputs": [
        {
          "output_type": "stream",
          "text": [
            "+----------------------+--------+------------+-----------------------+-----------------------+----+----+----+---------+----+-------+--------------------+-------------------------------------------+----------------------------------------------+--------------------+--------------------+--------------------+----------------------+--------------------+--------------------+--------------------+--------------------+-----------------------------------------+-----------------------------+-----------------------+------------------------------------------------------------------------+----------------------------------------------+---------------------------+----+\n",
            "|Instituição financeira|  Código|Conglomerado|Conglomerado Financeiro|Conglomerado Prudencial| TCB|  TC|  TI|   Cidade|  UF|   Data|Disponibilidades (a)|Aplicações Interfinanceiras de Liquidez (b)|TVM e Instrumentos Financeiros Derivativos (c)|Operações de Crédito|                _c15|                _c16|Arrendamento Mercantil|                _c18|                _c19|                _c20|                _c21|Outros Créditos - Líquido de Provisão (f)|Outros Ativos Realizáveis (g)|Permanente Ajustado (h)|Ativo Total Ajustado (i) = (a) + (b) + (c) + (d) + (e) + (f) + (g) + (h)|Credores por Antecipação de Valor Residual (j)|Ativo Total (k) = (i) - (j)|_c28|\n",
            "+----------------------+--------+------------+-----------------------+-----------------------+----+----+----+---------+----+-------+--------------------+-------------------------------------------+----------------------------------------------+--------------------+--------------------+--------------------+----------------------+--------------------+--------------------+--------------------+--------------------+-----------------------------------------+-----------------------------+-----------------------+------------------------------------------------------------------------+----------------------------------------------+---------------------------+----+\n",
            "|                  null|    null|        null|                   null|                   null|null|null|null|     null|null|   null|                null|                                       null|                                          null|Operações de Créd...|Provisão sobre Op...|Operações de Créd...|  Arrendamento Merc...|Imobilizado de Ar...|Credores por Ante...|Provisão sobre Ar...|Arrendamento Merc...|                                     null|                         null|                   null|                                                                    null|                                          null|                       null|null|\n",
            "|  BANCO DO BRASIL S.A.|       0|          BB|                  49906|                  80329|  b1|   1|   1| BRASILIA|  DF|06/2020|          16.981.723|                                502.910.378|                                   238.748.803|         567.622.046|         -38.772.545|         528.849.501|                     0|                   0|                   0|                   0|                   0|                              197.325.633|                   78.297.295|             57.370.076|                                                           1.620.483.409|                                             0|              1.620.483.409|null|\n",
            "|  CAIXA ECONOMICA F...|  360305|        null|                   null|                  80738|  b1|   1|   6| BRASILIA|  DF|06/2020|          16.241.848|                                243.578.260|                                   258.295.205|         712.138.928|         -33.397.716|         678.741.211|                     0|                   0|                   0|                   0|                   0|                               87.292.942|                  131.146.578|             14.949.368|                                                           1.430.245.412|                                             0|              1.430.245.412|null|\n",
            "|    ITAÚ UNIBANCO S.A.|60701190|        ITAU|                  10069|                  80099|  b1|   2|   8|SAO PAULO|  SP|06/2020|          19.357.469|                                409.165.991|                                   265.930.817|         262.875.730|         -23.436.559|         239.439.171|                    44|                 133|                 251|                  -3|                 425|                              141.099.893|                  110.154.846|            135.571.240|                                                           1.320.719.851|                                           251|              1.320.719.601|null|\n",
            "|   BANCO BRADESCO S.A.|60746948|    BRADESCO|                  10045|                  80075|  b1|   2|   8|   OSASCO|  SP|06/2020|          17.079.279|                                204.658.460|                                   310.642.131|         344.404.042|         -33.847.521|         310.556.521|                     0|                 336|                 334|                  -2|                 668|                              195.547.203|                   92.215.768|            168.998.750|                                                           1.299.698.781|                                           334|              1.299.698.447|null|\n",
            "+----------------------+--------+------------+-----------------------+-----------------------+----+----+----+---------+----+-------+--------------------+-------------------------------------------+----------------------------------------------+--------------------+--------------------+--------------------+----------------------+--------------------+--------------------+--------------------+--------------------+-----------------------------------------+-----------------------------+-----------------------+------------------------------------------------------------------------+----------------------------------------------+---------------------------+----+\n",
            "only showing top 5 rows\n",
            "\n"
          ],
          "name": "stdout"
        }
      ]
    },
    {
      "cell_type": "code",
      "metadata": {
        "id": "QEqT8bgk108u"
      },
      "source": [
        "#ajustando nomenclatura de colunas\r\n",
        "resultado = (resultado\r\n",
        "        .withColumnRenamed(\"Instituição financeira\",\"instituicao_financeira\")\r\n",
        "        .withColumnRenamed(\"Código\",\"codigo\")\r\n",
        "        .withColumnRenamed(\"Conglomerado\",\"conglomerado\")\r\n",
        "        .withColumnRenamed(\"Conglomerado Financeiro\",\"conglomerado_financeiro\")\r\n",
        "        .withColumnRenamed(\"Conglomerado Prudencial\",\"conglomerado_prudencial\")\r\n",
        "        .withColumnRenamed(\"TCB\",\"tcb\")\r\n",
        "        .withColumnRenamed(\"TC\",\"tc\")\r\n",
        "        .withColumnRenamed(\"TI\",\"ti\")\r\n",
        "        .withColumnRenamed(\"Cidade\",\"cidade\")\r\n",
        "        .withColumnRenamed(\"UF\",\"uf\")\r\n",
        "        .withColumnRenamed(\"Data\",\"data\")\r\n",
        "        .withColumnRenamed(\"Disponibilidades (a)\",\"disponibilidade_a\")\r\n",
        "        .withColumnRenamed(\"Aplicações Interfinanceiras de Liquidez (b)\",\"aplicacoes_interfinanceiras_liquidez_b\")\r\n",
        "        .withColumnRenamed(\"TVM e Instrumentos Financeiros Derivativos (c)\",\"tvm_instrumentos_financeiros_derivativos_c\")\r\n",
        "        .withColumnRenamed(\"Operações de Crédito\",\"operacoes_credito_d1\")\r\n",
        "        .withColumnRenamed(\"_c15\",\"provisao_sobre_operacao_credito_d2\")\r\n",
        "        .withColumnRenamed(\"_c16\",\"operacoes_credito_liquidas_provisao_d\")\r\n",
        "        .withColumnRenamed(\"Arrendamento Mercantil\",\"arredondamento_mercantil_e1\")\r\n",
        "        .withColumnRenamed(\"_c18\",\"imobilizado_arrendamento_e2\")\r\n",
        "        .withColumnRenamed(\"_c19\",\"credores_antecipacao_valor_residual_e3\")\r\n",
        "        .withColumnRenamed(\"_c20\",\"provisao_sobre_arrendamento_mercantil_para_cl_e4\")\r\n",
        "        .withColumnRenamed(\"_c21\",\"arrendamento_mercantil_liquido_provisao_e\")\r\n",
        "        .withColumnRenamed(\"Outros Créditos - Líquido de Provisão (f)\",\"outros_creditos_liquido_provisao_f\")\r\n",
        "        .withColumnRenamed(\"Outros Ativos Realizáveis (g)\",\"outrs_ativos_realizaveis_g\")\r\n",
        "        .withColumnRenamed(\"Permanente Ajustado (h)\",\"permanente_ajustado_h\")\r\n",
        "        .withColumnRenamed(\"Ativo Total Ajustado (i) = (a) + (b) + (c) + (d) + (e) + (f) + (g) + (h)\",\"ativo_total_ajustado_i\")\r\n",
        "        .withColumnRenamed(\"Credores por Antecipação de Valor Residual (j)\",\"credores_antecipacao_valor_residual_j\")\r\n",
        "        .withColumnRenamed(\"Ativo Total (k) = (i) - (j)\",\"ativo_total_k_i-j\")\r\n",
        "        .withColumnRenamed(\"_c28\",\"c28\")\r\n",
        "      \r\n",
        "     )"
      ],
      "execution_count": null,
      "outputs": []
    },
    {
      "cell_type": "code",
      "metadata": {
        "colab": {
          "base_uri": "https://localhost:8080/"
        },
        "id": "7PZ2tH0c2lRb",
        "outputId": "3964a3a3-f08f-4d59-dfed-a50110dea9ef"
      },
      "source": [
        "resultado.printSchema()"
      ],
      "execution_count": null,
      "outputs": [
        {
          "output_type": "stream",
          "text": [
            "root\n",
            " |-- instituicao_financeira: string (nullable = true)\n",
            " |-- codigo: string (nullable = true)\n",
            " |-- conglomerado: string (nullable = true)\n",
            " |-- conglomerado_financeiro: string (nullable = true)\n",
            " |-- conglomerado_prudencial: string (nullable = true)\n",
            " |-- tcb: string (nullable = true)\n",
            " |-- tc: string (nullable = true)\n",
            " |-- ti: string (nullable = true)\n",
            " |-- cidade: string (nullable = true)\n",
            " |-- uf: string (nullable = true)\n",
            " |-- data: string (nullable = true)\n",
            " |-- disponibilidade_a: string (nullable = true)\n",
            " |-- aplicacoes_interfinanceiras_liquidez_b: string (nullable = true)\n",
            " |-- tvm_instrumentos_financeiros_derivativos_c: string (nullable = true)\n",
            " |-- operacoes_credito_d1: string (nullable = true)\n",
            " |-- provisao_sobre_operacao_credito_d2: string (nullable = true)\n",
            " |-- operacoes_credito_liquidas_provisao_d: string (nullable = true)\n",
            " |-- arredondamento_mercantil_e1: string (nullable = true)\n",
            " |-- imobilizado_arrendamento_e2: string (nullable = true)\n",
            " |-- credores_antecipacao_valor_residual_e3: string (nullable = true)\n",
            " |-- provisao_sobre_arrendamento_mercantil_para_cl_e4: string (nullable = true)\n",
            " |-- arrendamento_mercantil_liquido_provisao_e: string (nullable = true)\n",
            " |-- outros_creditos_liquido_provisao_f: string (nullable = true)\n",
            " |-- outrs_ativos_realizaveis_g: string (nullable = true)\n",
            " |-- permanente_ajustado_h: string (nullable = true)\n",
            " |-- ativo_total_ajustado_i: string (nullable = true)\n",
            " |-- credores_antecipacao_valor_residual_j: string (nullable = true)\n",
            " |-- ativo_total_k_i-j: string (nullable = true)\n",
            " |-- c28: string (nullable = true)\n",
            "\n"
          ],
          "name": "stdout"
        }
      ]
    },
    {
      "cell_type": "markdown",
      "metadata": {
        "id": "o-jHobUJ-Ncq"
      },
      "source": [
        "#### 1- Conversão do formato dos arquivos: Converta o arquivo CSV dados.csv, para um formato colunar de alta performance de leitura de sua escolha e justificar."
      ]
    },
    {
      "cell_type": "code",
      "metadata": {
        "colab": {
          "base_uri": "https://localhost:8080/"
        },
        "id": "XC68P7eX205Z",
        "outputId": "223ecdb6-2c17-48f9-fb22-efae943c0abb"
      },
      "source": [
        "#MONTAR DRIVE PARA SALVAR ARQUIVO PARQUET\r\n",
        "from google.colab import drive\r\n",
        "\r\n",
        "drive.mount('/content/gdrive')"
      ],
      "execution_count": null,
      "outputs": [
        {
          "output_type": "stream",
          "text": [
            "Mounted at /content/gdrive\n"
          ],
          "name": "stdout"
        }
      ]
    },
    {
      "cell_type": "code",
      "metadata": {
        "id": "K1MRgYIQ2oPo"
      },
      "source": [
        "#SALVANDO ARQUIVOS PARQUET\r\n",
        "resultado.write.parquet('/content/gdrive/My Drive/resultado',mode='overwrite')"
      ],
      "execution_count": null,
      "outputs": []
    },
    {
      "cell_type": "markdown",
      "metadata": {
        "id": "LMj-mAC_8L1i"
      },
      "source": [
        "#### JUSTIFICATIVA - ARQUIVO PARQUET\r\n",
        "\r\n",
        "- O tipo de arquivo escolhido foi o parquet. Pois ele é uma eficiente forma de armazenar dados para análises. Foi desenhado para interoperabilidade, ser eficiente em tamanho em disco, rápidas consultas."
      ]
    },
    {
      "cell_type": "code",
      "metadata": {
        "colab": {
          "base_uri": "https://localhost:8080/"
        },
        "id": "81kxsymq67P2",
        "outputId": "37781f1a-06b5-46a2-9bb5-47ae3d28d93e"
      },
      "source": [
        "#LEITURA DE ARQUIVO PARQUET\r\n",
        "\r\n",
        "resultado = spark.read.parquet('/content/gdrive/My Drive/resultado')\r\n",
        "resultado.show(15,False)"
      ],
      "execution_count": null,
      "outputs": [
        {
          "output_type": "stream",
          "text": [
            "+----------------------------------------------------+--------+---------------+-----------------------+-----------------------+----+----+----+--------------+----+-------+-----------------+--------------------------------------+------------------------------------------+-------------------------+----------------------------------------+---------------------------------------------+-------------------------------------+--------------------------------+-----------------------------------------------+------------------------------------------------+----------------------------------------------+----------------------------------+--------------------------+---------------------+----------------------+-------------------------------------+-----------------+----+\n",
            "|instituicao_financeira                              |codigo  |conglomerado   |conglomerado_financeiro|conglomerado_prudencial|tcb |tc  |ti  |cidade        |uf  |data   |disponibilidade_a|aplicacoes_interfinanceiras_liquidez_b|tvm_instrumentos_financeiros_derivativos_c|operacoes_credito_d1     |provisao_sobre_operacao_credito_d2      |operacoes_credito_liquidas_provisao_d        |arredondamento_mercantil_e1          |imobilizado_arrendamento_e2     |credores_antecipacao_valor_residual_e3         |provisao_sobre_arrendamento_mercantil_para_cl_e4|arrendamento_mercantil_liquido_provisao_e     |outros_creditos_liquido_provisao_f|outrs_ativos_realizaveis_g|permanente_ajustado_h|ativo_total_ajustado_i|credores_antecipacao_valor_residual_j|ativo_total_k_i-j|c28 |\n",
            "+----------------------------------------------------+--------+---------------+-----------------------+-----------------------+----+----+----+--------------+----+-------+-----------------+--------------------------------------+------------------------------------------+-------------------------+----------------------------------------+---------------------------------------------+-------------------------------------+--------------------------------+-----------------------------------------------+------------------------------------------------+----------------------------------------------+----------------------------------+--------------------------+---------------------+----------------------+-------------------------------------+-----------------+----+\n",
            "|null                                                |null    |null           |null                   |null                   |null|null|null|null          |null|null   |null             |null                                  |null                                      |Operações de Crédito (d1)|Provisão sobre Operações de Crédito (d2)|Operações de Crédito Líquidas de Provisão (d)|Arrendamento Mercantil a Receber (e1)|Imobilizado de Arrendamento (e2)|Credores por Antecipação de Valor Residual (e3)|Provisão sobre Arrendamento Mercantil (e4)      |Arrendamento Mercantil Líquido de Provisão (e)|null                              |null                      |null                 |null                  |null                                 |null             |null|\n",
            "|BANCO DO BRASIL S.A.                                |0       |BB             |49906                  |80329                  |b1  |1   |1   |BRASILIA      |DF  |06/2020|16.981.723       |502.910.378                           |238.748.803                               |567.622.046              |-38.772.545                             |528.849.501                                  |0                                    |0                               |0                                              |0                                               |0                                             |197.325.633                       |78.297.295                |57.370.076           |1.620.483.409         |0                                    |1.620.483.409    |null|\n",
            "|CAIXA ECONOMICA FEDERAL                             |360305  |null           |null                   |80738                  |b1  |1   |6   |BRASILIA      |DF  |06/2020|16.241.848       |243.578.260                           |258.295.205                               |712.138.928              |-33.397.716                             |678.741.211                                  |0                                    |0                               |0                                              |0                                               |0                                             |87.292.942                        |131.146.578               |14.949.368           |1.430.245.412         |0                                    |1.430.245.412    |null|\n",
            "|ITAÚ UNIBANCO S.A.                                  |60701190|ITAU           |10069                  |80099                  |b1  |2   |8   |SAO PAULO     |SP  |06/2020|19.357.469       |409.165.991                           |265.930.817                               |262.875.730              |-23.436.559                             |239.439.171                                  |44                                   |133                             |251                                            |-3                                              |425                                           |141.099.893                       |110.154.846               |135.571.240          |1.320.719.851         |251                                  |1.320.719.601    |null|\n",
            "|BANCO BRADESCO S.A.                                 |60746948|BRADESCO       |10045                  |80075                  |b1  |2   |8   |OSASCO        |SP  |06/2020|17.079.279       |204.658.460                           |310.642.131                               |344.404.042              |-33.847.521                             |310.556.521                                  |0                                    |336                             |334                                            |-2                                              |668                                           |195.547.203                       |92.215.768                |168.998.750          |1.299.698.781         |334                                  |1.299.698.447    |null|\n",
            "|BANCO SANTANDER (BRASIL) S.A.                       |90400888|SANTANDER      |30379                  |80185                  |b1  |3   |8   |SAO PAULO     |SP  |06/2020|7.402.936        |133.271.587                           |210.104.389                               |194.563.638              |-20.240.118                             |174.323.520                                  |0                                    |21.726                          |21.726                                         |0                                               |43.453                                        |247.607.552                       |73.375.355                |123.960.254          |970.089.046           |21.726                               |970.067.319      |null|\n",
            "|BANCO NACIONAL DE DESENVOLVIMENTO ECONOMICO E SOCIAL|33657248|null           |null                   |81847                  |b4  |1   |4   |RIO DE JANEIRO|RJ  |06/2020|5.561            |114.103.590                           |73.579.995                                |272.133.382              |-16.292.957                             |255.840.425                                  |0                                    |0                               |0                                              |0                                               |0                                             |26.122.410                        |177.751.982               |106.533.412          |753.937.375           |0                                    |753.937.375      |null|\n",
            "|BANCO BTG PACTUAL S.A.                              |30306294|BTG PACTUAL    |49944                  |80336                  |b1  |2   |8   |RIO DE JANEIRO|RJ  |06/2020|411.207          |63.901.646                            |58.656.535                                |20.943.168               |-1.444.410                              |19.498.758                                   |0                                    |0                               |0                                              |0                                               |0                                             |55.604.273                        |2.481.871                 |16.809.734           |217.364.024           |0                                    |217.364.024      |null|\n",
            "|BANCO SAFRA S.A.                                    |58160789|SAFRA          |10083                  |80109                  |b1  |2   |8   |SAO PAULO     |SP  |06/2020|665.710          |79.108.799                            |29.213.329                                |45.937.683               |-2.212.035                              |43.725.649                                   |0                                    |0                               |0                                              |0                                               |0                                             |10.054.038                        |12.695.552                |11.421.794           |186.884.870           |0                                    |186.884.870      |null|\n",
            "|ITAÚ UNIBANCO HOLDING S.A.                          |60872504|ITAU           |10069                  |80099                  |b1  |2   |8   |SAO PAULO     |SP  |06/2020|5                |79.474                                |663.540                                   |0                        |0                                       |0                                            |0                                    |0                               |0                                              |0                                               |0                                             |6.089.622                         |37.844                    |128.006.502          |134.876.986           |0                                    |134.876.986      |null|\n",
            "|BANCO ITAUCARD S.A.                                 |17192451|ITAU           |10069                  |80099                  |b2  |2   |8   |SAO PAULO     |SP  |06/2020|584.617          |842.971                               |22.224.178                                |36.613.565               |-9.567.723                              |27.045.842                                   |14.972                               |285.242                         |234.047                                        |-2.374                                          |531.886                                       |51.788.537                        |744.888                   |11.319.161           |115.082.080           |234.047                              |114.848.033      |null|\n",
            "|BANCO CITIBANK S.A.                                 |33479023|CITIBANK       |30403                  |80192                  |b1  |3   |8   |SAO PAULO     |SP  |06/2020|878.114          |24.200.986                            |38.225.713                                |12.946.943               |-264.360                                |12.682.583                                   |-234                                 |71.120                          |19.256                                         |-478                                            |89.664                                        |29.731.479                        |2.822.653                 |432.983              |109.064.176           |19.256                               |109.044.920      |null|\n",
            "|BANCO VOTORANTIM S.A.                               |59588111|VOTORANTIM     |51011                  |80484                  |b1  |2   |8   |SAO PAULO     |SP  |06/2020|302.367          |45.739.952                            |41.414.221                                |6.399.156                |-217.814                                |6.181.341                                    |0                                    |0                               |0                                              |0                                               |0                                             |7.179.417                         |1.453.737                 |5.703.482            |107.974.517           |0                                    |107.974.517      |null|\n",
            "|BANCO DO ESTADO DO RIO GRANDE DO SUL S.A.           |92702067|BANRISUL       |30173                  |80154                  |b1  |1   |8   |PORTO ALEGRE  |RS  |06/2020|1.114.298        |8.671.024                             |27.227.981                                |33.073.554               |-2.751.017                              |30.322.538                                   |169                                  |60.784                          |34.826                                         |-5.943                                          |89.835                                        |7.239.676                         |8.864.803                 |3.534.476            |87.064.630            |34.826                               |87.029.805       |null|\n",
            "|BANCO J.P. MORGAN S.A.                              |33172537|JP MORGAN CHASE|20107                  |80116                  |b1  |3   |8   |SAO PAULO     |SP  |06/2020|26.453           |41.737.893                            |19.513.540                                |2.208.060                |-13.080                                 |2.194.981                                    |0                                    |0                               |0                                              |0                                               |0                                             |12.026.055                        |7.373                     |1.554.864            |77.061.158            |0                                    |77.061.158       |null|\n",
            "+----------------------------------------------------+--------+---------------+-----------------------+-----------------------+----+----+----+--------------+----+-------+-----------------+--------------------------------------+------------------------------------------+-------------------------+----------------------------------------+---------------------------------------------+-------------------------------------+--------------------------------+-----------------------------------------------+------------------------------------------------+----------------------------------------------+----------------------------------+--------------------------+---------------------+----------------------+-------------------------------------+-----------------+----+\n",
            "only showing top 15 rows\n",
            "\n"
          ],
          "name": "stdout"
        }
      ]
    },
    {
      "cell_type": "markdown",
      "metadata": {
        "id": "7zDVXGXH-aBw"
      },
      "source": [
        "#### 2-Realize a deduplicação dos dados após a conversão;"
      ]
    },
    {
      "cell_type": "code",
      "metadata": {
        "colab": {
          "base_uri": "https://localhost:8080/"
        },
        "id": "2eij53Vk9Phn",
        "outputId": "1098c0f1-ab8f-4289-bd36-eb48a851f8f5"
      },
      "source": [
        "resultado.count()"
      ],
      "execution_count": null,
      "outputs": [
        {
          "output_type": "execute_result",
          "data": {
            "text/plain": [
              "1534"
            ]
          },
          "metadata": {
            "tags": []
          },
          "execution_count": 15
        }
      ]
    },
    {
      "cell_type": "code",
      "metadata": {
        "colab": {
          "base_uri": "https://localhost:8080/"
        },
        "id": "OYcbt0Gx9ZJQ",
        "outputId": "51899238-d585-4c0b-e17a-419b8ff1c90e"
      },
      "source": [
        "#DEDUPLICAÇÃO DE DUPLICADOS\r\n",
        "resultado = resultado.dropDuplicates()\r\n",
        "resultado.count()"
      ],
      "execution_count": null,
      "outputs": [
        {
          "output_type": "execute_result",
          "data": {
            "text/plain": [
              "1531"
            ]
          },
          "metadata": {
            "tags": []
          },
          "execution_count": 16
        }
      ]
    },
    {
      "cell_type": "markdown",
      "metadata": {
        "id": "CPlQbXOf-jHo"
      },
      "source": [
        "#### 3- Remova os registros onde a coluna Instituição Financeira estiver vazia ou nula;"
      ]
    },
    {
      "cell_type": "code",
      "metadata": {
        "id": "_zdrZHPI9fB4"
      },
      "source": [
        "resultado.createOrReplaceTempView('df')"
      ],
      "execution_count": null,
      "outputs": []
    },
    {
      "cell_type": "code",
      "metadata": {
        "id": "DYTSYPb49iqN"
      },
      "source": [
        "#REMOVENDO RESULTADOS COM COLUNA INSTITUIÇÃO FINANCEIRA VAZIA OU NULA\r\n",
        "resultado = spark.sql(\"\"\"\r\n",
        "    SELECT *\r\n",
        "    FROM df\r\n",
        "    where \r\n",
        "        trim(instituicao_financeira) is not null and\r\n",
        "        (instituicao_financeira) <> 'null' and\r\n",
        "        trim(instituicao_financeira) <> ''\r\n",
        "\"\"\")"
      ],
      "execution_count": null,
      "outputs": []
    },
    {
      "cell_type": "code",
      "metadata": {
        "colab": {
          "base_uri": "https://localhost:8080/"
        },
        "id": "1XMlpE6n9xBB",
        "outputId": "2d102709-38cc-4bbb-f343-982d307a2257"
      },
      "source": [
        "resultado.count()"
      ],
      "execution_count": null,
      "outputs": [
        {
          "output_type": "execute_result",
          "data": {
            "text/plain": [
              "1528"
            ]
          },
          "metadata": {
            "tags": []
          },
          "execution_count": 19
        }
      ]
    },
    {
      "cell_type": "markdown",
      "metadata": {
        "id": "a-6rTMd--qiQ"
      },
      "source": [
        "#### 4- Defina o tipo correto para pelo menos 4 colunas."
      ]
    },
    {
      "cell_type": "code",
      "metadata": {
        "colab": {
          "base_uri": "https://localhost:8080/"
        },
        "id": "VPkwRshI94bq",
        "outputId": "6a196b76-7474-44b8-9dd7-22c11f3bc354"
      },
      "source": [
        "resultado.printSchema()"
      ],
      "execution_count": null,
      "outputs": [
        {
          "output_type": "stream",
          "text": [
            "root\n",
            " |-- instituicao_financeira: string (nullable = true)\n",
            " |-- codigo: string (nullable = true)\n",
            " |-- conglomerado: string (nullable = true)\n",
            " |-- conglomerado_financeiro: string (nullable = true)\n",
            " |-- conglomerado_prudencial: string (nullable = true)\n",
            " |-- tcb: string (nullable = true)\n",
            " |-- tc: string (nullable = true)\n",
            " |-- ti: string (nullable = true)\n",
            " |-- cidade: string (nullable = true)\n",
            " |-- uf: string (nullable = true)\n",
            " |-- data: string (nullable = true)\n",
            " |-- disponibilidade_a: string (nullable = true)\n",
            " |-- aplicacoes_interfinanceiras_liquidez_b: string (nullable = true)\n",
            " |-- tvm_instrumentos_financeiros_derivativos_c: string (nullable = true)\n",
            " |-- operacoes_credito_d1: string (nullable = true)\n",
            " |-- provisao_sobre_operacao_credito_d2: string (nullable = true)\n",
            " |-- operacoes_credito_liquidas_provisao_d: string (nullable = true)\n",
            " |-- arredondamento_mercantil_e1: string (nullable = true)\n",
            " |-- imobilizado_arrendamento_e2: string (nullable = true)\n",
            " |-- credores_antecipacao_valor_residual_e3: string (nullable = true)\n",
            " |-- provisao_sobre_arrendamento_mercantil_para_cl_e4: string (nullable = true)\n",
            " |-- arrendamento_mercantil_liquido_provisao_e: string (nullable = true)\n",
            " |-- outros_creditos_liquido_provisao_f: string (nullable = true)\n",
            " |-- outrs_ativos_realizaveis_g: string (nullable = true)\n",
            " |-- permanente_ajustado_h: string (nullable = true)\n",
            " |-- ativo_total_ajustado_i: string (nullable = true)\n",
            " |-- credores_antecipacao_valor_residual_j: string (nullable = true)\n",
            " |-- ativo_total_k_i-j: string (nullable = true)\n",
            " |-- c28: string (nullable = true)\n",
            "\n"
          ],
          "name": "stdout"
        }
      ]
    },
    {
      "cell_type": "code",
      "metadata": {
        "id": "nUiBXkiM97UX"
      },
      "source": [
        "#DEFININDO TIPO CORRETO DAS COLUNAS\r\n",
        "\r\n",
        "resultado = (resultado\r\n",
        "      .withColumn('tc',F.col('tc').cast(IntegerType()))\r\n",
        "      .withColumn('ti',F.col('ti').cast(IntegerType()))\r\n",
        "      .withColumn('disponibilidade_a',F.col('disponibilidade_a').cast(FloatType()))\r\n",
        "      .withColumn('aplicacoes_interfinanceiras_liquidez_b',F.col('aplicacoes_interfinanceiras_liquidez_b').cast(FloatType()))\r\n",
        "      .withColumn('tvm_instrumentos_financeiros_derivativos_c',F.col('tvm_instrumentos_financeiros_derivativos_c').cast(FloatType()))\r\n",
        "      .withColumn('provisao_sobre_operacao_credito_d2',F.col('provisao_sobre_operacao_credito_d2').cast(FloatType()))\r\n",
        "      .withColumn('operacoes_credito_liquidas_provisao_d',F.col('operacoes_credito_liquidas_provisao_d').cast(FloatType()))\r\n",
        "      .withColumn('outros_creditos_liquido_provisao_f',F.col('outros_creditos_liquido_provisao_f').cast(FloatType()))\r\n",
        "      .withColumn('outrs_ativos_realizaveis_g',F.col('outrs_ativos_realizaveis_g').cast(FloatType()))\r\n",
        "      .withColumn('permanente_ajustado_h',F.col('permanente_ajustado_h').cast(FloatType()))\r\n",
        "      .withColumn('ativo_total_ajustado_i',F.col('ativo_total_ajustado_i').cast(FloatType()))\r\n",
        "      .withColumn('credores_antecipacao_valor_residual_j',F.col('credores_antecipacao_valor_residual_j').cast(FloatType()))     \r\n",
        "      \r\n",
        "     )     "
      ],
      "execution_count": null,
      "outputs": []
    },
    {
      "cell_type": "code",
      "metadata": {
        "colab": {
          "base_uri": "https://localhost:8080/"
        },
        "id": "p_jFLkpI-DX4",
        "outputId": "f3829e45-8d9c-4fde-e35a-fb2e122205b8"
      },
      "source": [
        "resultado.printSchema()"
      ],
      "execution_count": null,
      "outputs": [
        {
          "output_type": "stream",
          "text": [
            "root\n",
            " |-- instituicao_financeira: string (nullable = true)\n",
            " |-- codigo: string (nullable = true)\n",
            " |-- conglomerado: string (nullable = true)\n",
            " |-- conglomerado_financeiro: string (nullable = true)\n",
            " |-- conglomerado_prudencial: string (nullable = true)\n",
            " |-- tcb: string (nullable = true)\n",
            " |-- tc: integer (nullable = true)\n",
            " |-- ti: integer (nullable = true)\n",
            " |-- cidade: string (nullable = true)\n",
            " |-- uf: string (nullable = true)\n",
            " |-- data: string (nullable = true)\n",
            " |-- disponibilidade_a: float (nullable = true)\n",
            " |-- aplicacoes_interfinanceiras_liquidez_b: float (nullable = true)\n",
            " |-- tvm_instrumentos_financeiros_derivativos_c: float (nullable = true)\n",
            " |-- operacoes_credito_d1: string (nullable = true)\n",
            " |-- provisao_sobre_operacao_credito_d2: float (nullable = true)\n",
            " |-- operacoes_credito_liquidas_provisao_d: float (nullable = true)\n",
            " |-- arredondamento_mercantil_e1: string (nullable = true)\n",
            " |-- imobilizado_arrendamento_e2: string (nullable = true)\n",
            " |-- credores_antecipacao_valor_residual_e3: string (nullable = true)\n",
            " |-- provisao_sobre_arrendamento_mercantil_para_cl_e4: string (nullable = true)\n",
            " |-- arrendamento_mercantil_liquido_provisao_e: string (nullable = true)\n",
            " |-- outros_creditos_liquido_provisao_f: float (nullable = true)\n",
            " |-- outrs_ativos_realizaveis_g: float (nullable = true)\n",
            " |-- permanente_ajustado_h: float (nullable = true)\n",
            " |-- ativo_total_ajustado_i: float (nullable = true)\n",
            " |-- credores_antecipacao_valor_residual_j: float (nullable = true)\n",
            " |-- ativo_total_k_i-j: string (nullable = true)\n",
            " |-- c28: string (nullable = true)\n",
            "\n"
          ],
          "name": "stdout"
        }
      ]
    }
  ]
}